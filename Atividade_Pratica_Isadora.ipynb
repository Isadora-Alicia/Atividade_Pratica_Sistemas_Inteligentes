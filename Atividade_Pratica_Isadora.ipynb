{
  "nbformat": 4,
  "nbformat_minor": 0,
  "metadata": {
    "colab": {
      "provenance": []
    },
    "kernelspec": {
      "name": "python3",
      "display_name": "Python 3"
    },
    "language_info": {
      "name": "python"
    }
  },
  "cells": [
    {
      "cell_type": "markdown",
      "source": [
        "Preparando dados"
      ],
      "metadata": {
        "id": "r9CcXcZMe2Qe"
      }
    },
    {
      "cell_type": "code",
      "execution_count": 9,
      "metadata": {
        "colab": {
          "base_uri": "https://localhost:8080/"
        },
        "id": "09_cCRJ2NIHZ",
        "outputId": "135c36d5-81a0-4438-da7f-b55e1c71a2db"
      },
      "outputs": [
        {
          "output_type": "stream",
          "name": "stdout",
          "text": [
            "Precisão 0.7653631284916201\n"
          ]
        },
        {
          "output_type": "stream",
          "name": "stderr",
          "text": [
            "<ipython-input-9-f9ba504adad3>:13: SettingWithCopyWarning: \n",
            "A value is trying to be set on a copy of a slice from a DataFrame.\n",
            "Try using .loc[row_indexer,col_indexer] = value instead\n",
            "\n",
            "See the caveats in the documentation: https://pandas.pydata.org/pandas-docs/stable/user_guide/indexing.html#returning-a-view-versus-a-copy\n",
            "  x['Sex'] = x['Sex'].map({'male':0, 'female':1})\n"
          ]
        }
      ],
      "source": [
        "# prompt: leia o arquivo titanic.cvs\n",
        "\n",
        "import pandas as pd\n",
        "from sklearn.model_selection import train_test_split\n",
        "\n",
        "df = pd.read_csv('titanic.csv')\n",
        "\n",
        "df.head()\n",
        "\n",
        "features = ['Pclass','Sex','Age','SibSp','Parch']\n",
        "\n",
        "x = df[features]\n",
        "x['Sex'] = x['Sex'].map({'male':0, 'female':1})\n",
        "\n",
        "y = df['Survived']\n",
        "\n",
        "x = x.fillna(x.mean()) #trocando dados corrompidos pela média da coluna\n",
        "\n",
        "x_train, x_test, y_train, y_test = train_test_split(x, y, test_size=0.2, random_state=42)\n",
        "\n",
        "\n",
        "\n",
        "\n"
      ]
    },
    {
      "cell_type": "markdown",
      "source": [
        "Classificador Árvore de Decisão"
      ],
      "metadata": {
        "id": "OkN8O5tQvT3p"
      }
    },
    {
      "cell_type": "code",
      "source": [
        "from sklearn.tree import DecisionTreeClassifier\n",
        "from sklearn.tree import export_text\n",
        "from sklearn.metrics import accuracy_score\n",
        "\n",
        "#criando o classificador\n",
        "decision_tree_classifier = DecisionTreeClassifier()\n",
        "\n",
        "decision_tree_classifier.fit(x_train, y_train)\n",
        "\n",
        "tree_rules = export_text(decision_tree_classifier, feature_names=features)\n",
        "\n",
        "#print(tree_rules)\n",
        "\n",
        "predictions = decision_tree_classifier.predict(x_test)\n",
        "\n",
        "accuracy = accuracy_score(y_test, predictions)\n",
        "print(\"Precisão\", accuracy)"
      ],
      "metadata": {
        "colab": {
          "base_uri": "https://localhost:8080/"
        },
        "id": "Rbd0qwYfvFLy",
        "outputId": "33d71188-c849-410b-a94a-5330270a6ef5"
      },
      "execution_count": 10,
      "outputs": [
        {
          "output_type": "stream",
          "name": "stdout",
          "text": [
            "Precisão 0.7653631284916201\n"
          ]
        }
      ]
    },
    {
      "cell_type": "code",
      "source": [
        "from sklearn.neural_network import MLPClassifier\n",
        "from sklearn.metrics import accuracy_score\n",
        "\n",
        "mlp = MLPClassifier(hidden_layer_sizes=(10,5), max_iter=1000,random_state=42)\n",
        "\n",
        "mlp.fit(x_train, y_train)\n",
        "\n",
        "predictions = mlp.predict(x_test)\n",
        "\n",
        "accuracy = accuracy_score(y_test, predictions)\n",
        "print(\"Precisão\", accuracy)"
      ],
      "metadata": {
        "colab": {
          "base_uri": "https://localhost:8080/"
        },
        "id": "uhkXQTVxvkl2",
        "outputId": "e69d364f-86f7-4dc4-b657-281444ed1261"
      },
      "execution_count": 12,
      "outputs": [
        {
          "output_type": "stream",
          "name": "stdout",
          "text": [
            "Precisão 0.8100558659217877\n"
          ]
        }
      ]
    }
  ]
}